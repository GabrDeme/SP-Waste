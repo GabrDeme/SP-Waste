{
 "cells": [
  {
   "cell_type": "code",
   "execution_count": 6,
   "id": "e5626f46",
   "metadata": {},
   "outputs": [
    {
     "name": "stdout",
     "output_type": "stream",
     "text": [
      "  pr_siglasb    pr_subpref  pr_lote  pr_empresa  \\\n",
      "0         SA   Santo Amaro        6    Ecosampa   \n",
      "1         VM  Vila Mariana        3     Locatsp   \n",
      "2         VM  Vila Mariana        3     Locatsp   \n",
      "3         SE            Sé        2  Sustentare   \n",
      "4         SE            Sé        2  Sustentare   \n",
      "\n",
      "                                  pr_enderec            pr_dataref  \\\n",
      "0                 Acesso da Ponte do Socorro  1º quadrimestre 2021   \n",
      "1                    Alameda dos Araés, 1546  1º quadrimestre 2021   \n",
      "2                Alameda dos Guaicanãs, 1411  1º quadrimestre 2021   \n",
      "3                              Alameda Glete  1º quadrimestre 2021   \n",
      "4  Alameda Ribeiro da Silva & Rua Dino Bueno  1º quadrimestre 2021   \n",
      "\n",
      "      pr_status                                      geometry  \n",
      "0  Revitalizado  POINT (325690.91419673164 7381845.718818115)  \n",
      "1  Revitalizado  POINT (330766.58035278425 7387132.174501718)  \n",
      "2  Revitalizado  POINT (331149.41609320254 7386838.016152453)  \n",
      "3  Revitalizado   POINT (331919.6807581705 7396300.085651049)  \n",
      "4  Revitalizado   POINT (332082.6885523229 7396885.181422816)  \n"
     ]
    }
   ],
   "source": [
    "import pandas as pd\n",
    "import os\n",
    "\n",
    "df = pd.read_excel(\"bDADOS_XLSX/SIRGAS_GPKG_pontorevitalizado_SIRGAS_GPKG_pontorevitalizado.xlsx\")\n",
    "print(df.head())"
   ]
  },
  {
   "cell_type": "code",
   "execution_count": 7,
   "id": "fd595437",
   "metadata": {},
   "outputs": [
    {
     "name": "stdout",
     "output_type": "stream",
     "text": [
      "['pr_siglasb', 'pr_subpref', 'pr_lote', 'pr_empresa', 'pr_enderec', 'pr_dataref', 'pr_status', 'geometry']\n"
     ]
    }
   ],
   "source": [
    "colunas = df.columns.tolist()\n",
    "print(colunas)"
   ]
  },
  {
   "cell_type": "code",
   "execution_count": 8,
   "id": "5dc05797",
   "metadata": {},
   "outputs": [
    {
     "name": "stdout",
     "output_type": "stream",
     "text": [
      "     pr_siglasb      pr_subpref  pr_lote  pr_empresa  \\\n",
      "0            SA     Santo Amaro        6    Ecosampa   \n",
      "1            VM    Vila Mariana        3     Locatsp   \n",
      "2            VM    Vila Mariana        3     Locatsp   \n",
      "3            SE              Sé        2  Sustentare   \n",
      "4            SE              Sé        2  Sustentare   \n",
      "...         ...             ...      ...         ...   \n",
      "1494         FB  Freguesia Do Ó        4    Limpa Sp   \n",
      "1495         SA     Santo Amaro        6    Ecosampa   \n",
      "1496         VP   Vila Prudente        3     Locatsp   \n",
      "1497         SA     Santo Amaro        6    Ecosampa   \n",
      "1498         SA     Santo Amaro        6    Ecosampa   \n",
      "\n",
      "                                          pr_enderec            pr_dataref  \\\n",
      "0                         Acesso da Ponte do Socorro  1º quadrimestre 2021   \n",
      "1                            Alameda dos Araés, 1546  1º quadrimestre 2021   \n",
      "2                        Alameda dos Guaicanãs, 1411  1º quadrimestre 2021   \n",
      "3                                      Alameda Glete  1º quadrimestre 2021   \n",
      "4          Alameda Ribeiro da Silva & Rua Dino Bueno  1º quadrimestre 2021   \n",
      "...                                              ...                   ...   \n",
      "1494    Travessa Vancouver & Rua José da Cunha Ponte  1º quadrimestre 2021   \n",
      "1495        Viaduto Austregésilo de Athayde (baixos)  1º quadrimestre 2021   \n",
      "1496                        Viaduto Grande São Paulo  1º quadrimestre 2021   \n",
      "1497  Viaduto Santo Amaro & Avenida dos Bandeirantes  1º quadrimestre 2021   \n",
      "1498               Avenida Vereador José Diniz, 4006  1º quadrimestre 2021   \n",
      "\n",
      "         pr_status  \n",
      "0     Revitalizado  \n",
      "1     Revitalizado  \n",
      "2     Revitalizado  \n",
      "3     Revitalizado  \n",
      "4     Revitalizado  \n",
      "...            ...  \n",
      "1494     Eliminado  \n",
      "1495  Revitalizado  \n",
      "1496  Revitalizado  \n",
      "1497  Revitalizado  \n",
      "1498  Revitalizado  \n",
      "\n",
      "[1499 rows x 7 columns]\n"
     ]
    }
   ],
   "source": [
    "# Remoção das colunas desnecessárias para análise\n",
    "df = df.drop([\"geometry\"], \n",
    "              axis=1)\n",
    "\n",
    "print(df)"
   ]
  },
  {
   "cell_type": "code",
   "execution_count": null,
   "id": "b8db2b19",
   "metadata": {},
   "outputs": [],
   "source": [
    "df['geometry'] = df['geometry'].apply(wkt.loads)\n",
    "gdf = gpd.GeoDataFrame(df, geometry='geometry', crs=\"EPSG:31983\")  # SIRGAS 2000 / UTM 23S\n",
    "\n",
    "gdf = gdf.to_crs(\"EPSG:4326\")\n",
    "\n",
    "gdf[\"latitude\"] = gdf.geometry.y\n",
    "gdf[\"longitude\"] = gdf.geometry.x\n",
    "\n",
    "\n",
    "df[\"latitude\"] = gdf[\"latitude\"]\n",
    "df[\"longitude\"] = gdf[\"longitude\"]\n",
    "\n",
    "df = df.drop(columns=[\"geometry\"])"
   ]
  },
  {
   "cell_type": "code",
   "execution_count": 9,
   "id": "bfaf839a",
   "metadata": {},
   "outputs": [],
   "source": [
    "# Criação manual de uma lista para inclusão das regiões\n",
    "\n",
    "regioes_sp = {\n",
    "    \"Mooca\": \"Zona Leste\",\n",
    "    \"Pinheiros\": \"Zona Oeste\",\n",
    "    \"São Miguel Paulista\": \"Zona Leste\",\n",
    "    \"Pirituba-Jaraguá\": \"Zona Noroeste\",\n",
    "    \"Aricanduva\": \"Zona Leste\",\n",
    "    \"Penha\": \"Zona Leste\",\n",
    "    \"Vila Mariana\": \"Zona Sul\",\n",
    "    \"Freguesia-Brasilândia\": \"Zona Norte\",\n",
    "    \"Perus-Anhanguera\": \"Zona Noroeste\",\n",
    "    \"Campo Limpo\": \"Zona Sul\",\n",
    "    \"Vila Maria-Vila Guilherme\": \"Zona Norte\",\n",
    "    \"Butantã\": \"Zona Oeste\",\n",
    "    \"Ermelino Matarazzo\": \"Zona Leste\",\n",
    "    \"Itaim Paulista\": \"Zona Leste\",\n",
    "    \"Cidade Tiradentes\": \"Zona Leste\",\n",
    "    \"Santo Amaro\": \"Zona Sul\",\n",
    "    \"São Mateus\": \"Zona Leste\",\n",
    "    \"Vila Prudente\": \"Zona Leste\",\n",
    "    \"Ipiranga\": \"Zona Sudeste\",\n",
    "    \"Sapopemba\": \"Zona Leste\",\n",
    "    \"Casa Verde\": \"Zona Norte\",\n",
    "    \"Itaquera\": \"Zona Leste\",\n",
    "    \"Sé\": \"Centro\",\n",
    "    \"Cidade Ademar\": \"Zona Sul\",\n",
    "    \"Jabaquara\": \"Zona Sul\",\n",
    "    \"Capela Do Socorro\": \"Zona Sul\",\n",
    "    \"Santana-Tucuruvi\": \"Zona Norte\",\n",
    "    \"Guaianases\": \"Zona Leste\",\n",
    "    \"M'Boi Mirim\": \"Zona Sul\",\n",
    "    \"Jaçanã-Tremembé\": \"Zona Norte\",\n",
    "    \"Parelheiros\": \"Zona Sul\",\n",
    "    \"Lapa\": \"Zona Oeste\"\n",
    "}\n",
    "\n",
    "df[\"região\"] = df[\"pr_subpref\"].map(regioes_sp)"
   ]
  },
  {
   "cell_type": "code",
   "execution_count": 10,
   "id": "412d329c",
   "metadata": {},
   "outputs": [
    {
     "name": "stdout",
     "output_type": "stream",
     "text": [
      "Arquivo salvo com sucesso em: bDADOS_TRATADOS\\PONTO REVITALIZADO.xlsx\n"
     ]
    }
   ],
   "source": [
    "# Caminho da subpasta\n",
    "subpasta = \"bDADOS_TRATADOS\"\n",
    "os.makedirs(subpasta, exist_ok=True)\n",
    "\n",
    "# Caminho completo do arquivo\n",
    "caminho_arquivo = os.path.join(subpasta, \"PONTO REVITALIZADO.xlsx\")\n",
    "\n",
    "# Salvando como Excel\n",
    "df.to_excel(caminho_arquivo, index=False)\n",
    "\n",
    "print(f\"Arquivo salvo com sucesso em: {caminho_arquivo}\")"
   ]
  }
 ],
 "metadata": {
  "kernelspec": {
   "display_name": "Python 3",
   "language": "python",
   "name": "python3"
  },
  "language_info": {
   "codemirror_mode": {
    "name": "ipython",
    "version": 3
   },
   "file_extension": ".py",
   "mimetype": "text/x-python",
   "name": "python",
   "nbconvert_exporter": "python",
   "pygments_lexer": "ipython3",
   "version": "3.12.1"
  }
 },
 "nbformat": 4,
 "nbformat_minor": 5
}
